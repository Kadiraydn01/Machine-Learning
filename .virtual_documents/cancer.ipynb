import pandas as pd
import numpy as np
import matplotlib.pyplot as plt
import seaborn as sns
from sklearn.neighbors import KNeighborsClassifier
from sklearn.linear_model import LogisticRegression
from sklearn.model_selection import train_test_split
from sklearn.metrics import confusion_matrix
from sklearn.preprocessing import StandardScaler




df=pd.read_csv('data.csv')


df.replace([np.inf, -np.inf], np.nan, inplace=True)





df.head()


df.info()





df.drop(['Unnamed: 32','id'],axis=1,inplace=True)


target_count = df.diagnosis.value_counts(normalize=True)
target_count
plt.pie(target_count, labels=['İyi Huylu', 'Kötü Huylu'], autopct='%1.1f%%')


df.diagnosis.unique()


df['diagnosis']=df['diagnosis'].map({'M':"Kötü Huylu",'B':"İyi Huylu"})



sns.barplot(x='diagnosis',y=df.diagnosis.index,data=df)


df.hist(figsize=(20,20));


sns.pairplot(df, hue='diagnosis', vars=['radius_mean','texture_mean','area_mean','perimeter_mean','smoothness_mean']);


sns.stripplot(x='diagnosis',y='radius_mean',data=df)




sns.stripplot(x='diagnosis',y='area_mean',data=df)





model_df=df.copy()


model_df['diagnosis']=model_df['diagnosis'].map({'Kötü Huylu':1,'İyi Huylu':0})


model_df.corr()['diagnosis'].sort_values(ascending=False)


model_df.head()


import seaborn as sns
corr_matrix=model_df.corr()
plt.figure(figsize=(20,20))
sns.heatmap(corr_matrix, annot=True, cmap = 'seismic')
plt.show()


fig, axs = plt.subplots(6, 5, figsize=(20, 24))

features = list(model_df.columns)
features.remove('diagnosis')
for i in range(len(features)):
    row = i // 5
    col = i % 5
    sns.histplot(model_df[model_df['diagnosis'] == 0][features[i]], kde=True, ax=axs[row, col], label='İyi Huylu')
    sns.histplot(model_df[model_df['diagnosis'] == 1][features[i]], kde=True, ax=axs[row, col], label='Kötü Huylu')
    axs[row, col].set_title(f'{features[i]}')
    axs[row, col].legend(loc='best')

plt.subplots_adjust(hspace=0.5)

plt.show()


feature_groups = {}
fea = model_df.columns.to_list()
fea.remove('diagnosis')

for feature in fea:
   
    prefix, suffix = feature.split('_', 1)
    if prefix not in feature_groups:
        feature_groups[prefix] = []
    
    feature_groups[prefix].append(feature)


for key in feature_groups.keys():
    sns.pairplot(model_df, vars=feature_groups[key], hue='diagnosis', height=2)


from sklearn.model_selection import train_test_split
X=model_df.drop('diagnosis',axis=1)
y=model_df['diagnosis']
X_train, X_test, y_train, y_test = train_test_split(X, y, test_size=0.4, random_state=42)


knn= KNeighborsClassifier()
knn_model = knn.fit(X_train, y_train)
knn_model


lm1=LogisticRegression()
lm1.fit(X_train,y_train)
print("fit" , lm1.score(X_train, y_train))



def print_confusion_matrix(confusion_matrix, class_names, figsize = [12,8], fontsize=18):
      
    df_cm = pd.DataFrame(confusion_matrix, index=class_names, columns=class_names, )
    plt.figure(figsize=figsize)
    
    try:
        heatmap = sns.heatmap(df_cm, annot=True, fmt="d")
    except ValueError:
        raise ValueError("Confusion matrix values must be integers.")
        
    heatmap.yaxis.set_ticklabels(heatmap.yaxis.get_ticklabels(), rotation=0, ha='right', fontsize=fontsize)
    heatmap.xaxis.set_ticklabels(heatmap.xaxis.get_ticklabels(), rotation=45, ha='right', fontsize=fontsize)
    plt.ylabel('True')
    plt.xlabel('Predicted')


class_names = ['İyi Huylu', 'Kötü Huylu']   
print_confusion_matrix(confusion_matrix(y_test, knn_model.predict(X_test)), class_names, figsize = [8,6], fontsize=12) 


print_confusion_matrix(confusion_matrix(y_train, lm1.predict(X_train)), class_names, figsize = [8,6], fontsize=12)
